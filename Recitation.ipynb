{
  "nbformat": 4,
  "nbformat_minor": 0,
  "metadata": {
    "colab": {
      "name": "Recitation.ipynb",
      "provenance": [],
      "collapsed_sections": [],
      "authorship_tag": "ABX9TyPLwYKScPYyl1vk1A0EZmb1",
      "include_colab_link": true
    },
    "kernelspec": {
      "name": "python3",
      "display_name": "Python 3"
    },
    "language_info": {
      "name": "python"
    }
  },
  "cells": [
    {
      "cell_type": "markdown",
      "metadata": {
        "id": "view-in-github",
        "colab_type": "text"
      },
      "source": [
        "<a href=\"https://colab.research.google.com/github/kenaceeee/Numerical-Methods-58011/blob/main/Recitation.ipynb\" target=\"_parent\"><img src=\"https://colab.research.google.com/assets/colab-badge.svg\" alt=\"Open In Colab\"/></a>"
      ]
    },
    {
      "cell_type": "code",
      "execution_count": 3,
      "metadata": {
        "colab": {
          "base_uri": "https://localhost:8080/"
        },
        "id": "NXYLakQBKvEW",
        "outputId": "49b591e5-90c1-4053-831b-7d5a75ce78de"
      },
      "outputs": [
        {
          "output_type": "stream",
          "name": "stdout",
          "text": [
            "Integral = 1.6005\n"
          ]
        }
      ],
      "source": [
        "import numpy as np\n",
        "def f(x):\n",
        "   return(0.2+25*x-(200*x**2)+(675*x**3)-(900*x**4)+(400*x**5))\n",
        "a = 0\n",
        "b = 0.8\n",
        "n = 10\n",
        "h = (b-a)/n\n",
        "S = h * (f(a)+f(b))\n",
        "for i in range (1,n):\n",
        "  S+=f(a+i*h)\n",
        "Integral = h*S\n",
        "print('Integral = %0.4f' %Integral)"
      ]
    }
  ]
}